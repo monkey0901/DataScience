{
 "cells": [
  {
   "cell_type": "markdown",
   "metadata": {},
   "source": [
    "# 1.插入排序算法\n",
    "内容：插入排序算法是把给定数组中的元素依次插入到一个新的数组中，最终得到一个完整的有序数组。\n",
    "\n",
    "时间复杂度：O(N^2),空间复杂度：O(1)\n",
    "\n",
    "插入排序是一个稳定的排序算法。这里涉及一个新的概念：**排序算法的稳定性**。排序算法可以分为稳定的算法和不稳定的算法两类。在一个数组中，我们假设存在多个有相同关键字的元素。如果使用算法进行排序后，这些具有相同关键字的元素相对顺序一定保持不变，那么我们称这个排序算法为稳定的排序算法。\n",
    "\n",
    "**稳定的排序算法:** 冒泡排序、插入排序和归并排序等。而不能保证这些元素排序前后的相对位置相同的算法，就是不稳定的排序算法。\n",
    "\n",
    "**不稳定的排序算法:** 选择排序、希尔排序和快速排序等。"
   ]
  },
  {
   "cell_type": "code",
   "execution_count": 1,
   "metadata": {},
   "outputs": [
    {
     "name": "stdout",
     "output_type": "stream",
     "text": [
      "[1, 2, 3, 4, 5, 6, 7, 8]\n"
     ]
    }
   ],
   "source": [
    "nums = [5,3,6,4,1,2,8,7]\n",
    "# 将数组分成两部分，前一部分已经排好序，后一部分待排序\n",
    "for i in range(len(nums)):\n",
    "    for j in range(i):\n",
    "        # 对拍好序的部分遍历，找到比它大的并插入，去除掉原来的数\n",
    "        if nums[i]<nums[j]:\n",
    "            temp = nums[i]\n",
    "            nums.pop(i)\n",
    "            nums.insert(j, temp)\n",
    "            break\n",
    "print(nums)\n"
   ]
  },
  {
   "cell_type": "markdown",
   "metadata": {},
   "source": [
    "# 2.选择排序算法\n",
    "选择排序表示从无序的数组中，每次选择最小或最大的数据，从无序数组中放到有序数组的末尾，以达到排序的效果。\n",
    "\n",
    "时间复杂度是O(n^2)"
   ]
  },
  {
   "cell_type": "code",
   "execution_count": 2,
   "metadata": {},
   "outputs": [
    {
     "name": "stdout",
     "output_type": "stream",
     "text": [
      "[1, 2, 3, 4, 5, 6, 7, 8]\n"
     ]
    }
   ],
   "source": [
    "nums = [5,3,6,4,1,2,8,7]\n",
    "for i in range(len(nums)):\n",
    "    minId = i\n",
    "    for j in range(i, len(nums)):\n",
    "        if nums[j]<nums[minId]:\n",
    "            minId = j \n",
    "    nums[i], nums[minId] = nums[minId], nums[i]\n",
    "print(nums)"
   ]
  },
  {
   "cell_type": "markdown",
   "metadata": {},
   "source": [
    "# 3.冒泡排序\n",
    "\n",
    "该算法采用重复遍历数组并依次比较相邻元素的方法来排序。由于在冒泡算法进行排序的过程中，最大数/最小数会慢慢“浮”到数组的末尾，所以算法由此命名。"
   ]
  },
  {
   "cell_type": "code",
   "execution_count": 6,
   "metadata": {},
   "outputs": [
    {
     "name": "stdout",
     "output_type": "stream",
     "text": [
      "[1, 2, 3, 4, 5, 6, 7, 8]\n"
     ]
    }
   ],
   "source": [
    "nums = [5,3,6,4,1,2,8,7]\n",
    "for i in range(len(nums),0,-1):\n",
    "    # flag 表示本次遍历是否交换元素，能更快地跳出循环\n",
    "    flag = 0\n",
    "    for j in range(i-1):\n",
    "        if nums[j]>nums[j+1]:\n",
    "            nums[j+1], nums[j] = nums[j], nums[j+1]\n",
    "            flag = 1\n",
    "    if not flag:\n",
    "        break\n",
    "print(nums)\n",
    "        \n",
    "        "
   ]
  },
  {
   "cell_type": "markdown",
   "metadata": {},
   "source": [
    "# 4.归并排序\n",
    "“归并”一词，意为“合并”。顾名思义，归并排序算法就是一个先把数列拆分为子数列，对子数列进行排序后，再把有序的子数列合并为完整的有序数列的算法。\n",
    "\n",
    "归并排序的平均时间复杂度是 O(nlgn)，最好情况下的时间复杂度是 O(nlgn)，最坏情况下的时间复杂度也是 O(nlgn)。它的空间复杂度是 O(1)。另外，归并排序还是一个稳定的排序算法。"
   ]
  },
  {
   "cell_type": "code",
   "execution_count": 14,
   "metadata": {},
   "outputs": [
    {
     "name": "stdout",
     "output_type": "stream",
     "text": [
      "[1, 2, 3, 4, 5, 6, 7, 8]\n"
     ]
    }
   ],
   "source": [
    "nums = [5,3,6,4,1,2,8,7]\n",
    "\n",
    "def mergeSort(nums):\n",
    "    # 终止条件\n",
    "    if len(nums)<=1:\n",
    "        return nums\n",
    "    # 将数组分割成左右两部分\n",
    "    index  = len(nums)//2\n",
    "    leftNums = mergeSort(nums[:index])\n",
    "    \n",
    "    rightNums = mergeSort(nums[index:])\n",
    "    results = []\n",
    "    i, j = 0, 0\n",
    "    \n",
    "    # 左右两部分进行比较排序\n",
    "    while i<len(leftNums) and j<len(rightNums):\n",
    "        if leftNums[i]<rightNums[j]:\n",
    "            results.append(leftNums[i])\n",
    "            i += 1\n",
    "        else:\n",
    "            results.append(rightNums[j])\n",
    "            j += 1\n",
    "    # 将末尾部分直接添加至results尾部\n",
    "    results += leftNums[i:] + rightNums[j:]\n",
    "    return results\n",
    "\n",
    "print(mergeSort(nums))\n",
    "        "
   ]
  },
  {
   "cell_type": "markdown",
   "metadata": {},
   "source": [
    "# 5.快速排序算法\n",
    "快速排序的思想是：取数组中的一个数作为基准值，把所有小于基准值的数都放在它的一侧，再把所有大于基准值的数都放在它的另一侧。随后，对基准值左右两侧的数组分别进行快速排序。由此可以看出，快速排序的整个排序过程也是递归进行的。"
   ]
  },
  {
   "cell_type": "code",
   "execution_count": 20,
   "metadata": {},
   "outputs": [
    {
     "name": "stdout",
     "output_type": "stream",
     "text": [
      "[1, 2, 3, 4, 5, 6, 7, 8]\n"
     ]
    }
   ],
   "source": [
    "nums = [5,3,6,4,1,2,8,7]\n",
    "\n",
    "def quickSort(nums):\n",
    "    if len(nums)<=1:\n",
    "        return nums\n",
    "    leftNums, rightNums, mNums = [], [], [nums[0]]\n",
    "    for i in range(1,len(nums)):\n",
    "        if nums[i]<nums[0]:\n",
    "            leftNums.append(nums[i])\n",
    "        elif nums[i]>nums[0]:\n",
    "            rightNums.append(nums[i])\n",
    "        else:\n",
    "            mNums.append(nums[0])\n",
    "    lr = quickSort(leftNums)\n",
    "    rr = quickSort(rightNums)\n",
    "    r = lr + mNums + rr\n",
    "    return r    \n",
    "    # return quickSort(leftNums) + mNums + quickSort(rightNums)\n",
    "print(quickSort(nums))"
   ]
  },
  {
   "cell_type": "code",
   "execution_count": 23,
   "metadata": {},
   "outputs": [
    {
     "name": "stdout",
     "output_type": "stream",
     "text": [
      "[1, 2, 3, 4, 5, 6, 7, 8]\n"
     ]
    }
   ],
   "source": [
    "# 优化快速排序，不使用额外空间\n",
    "nums = [5,3,6,4,1,2,8,7]\n",
    "def qSort(left, right):\n",
    "    if left>=right:\n",
    "        return \n",
    "    key = nums[left]\n",
    "    l, r = left, right\n",
    "    while l<r:\n",
    "        while l<r and nums[r]>=key:\n",
    "            r -= 1\n",
    "        nums[l] = nums[r]\n",
    "        while l<r and nums[l]<key:\n",
    "            l += 1\n",
    "        nums[r] = nums[l]\n",
    "    nums[l] = key\n",
    "    qSort(left, l-1)\n",
    "    qSort(l+1, right)\n",
    "qSort(0, len(nums)-1)\n",
    "print(nums)      \n",
    "    "
   ]
  }
 ],
 "metadata": {
  "interpreter": {
   "hash": "e4046c747db15acef93b5316a4c87d7ebe5f84bc6fde501da826df5e1dc39d88"
  },
  "kernelspec": {
   "display_name": "Python 3.7.0 ('base')",
   "language": "python",
   "name": "python3"
  },
  "language_info": {
   "codemirror_mode": {
    "name": "ipython",
    "version": 3
   },
   "file_extension": ".py",
   "mimetype": "text/x-python",
   "name": "python",
   "nbconvert_exporter": "python",
   "pygments_lexer": "ipython3",
   "version": "3.7.0"
  },
  "orig_nbformat": 4
 },
 "nbformat": 4,
 "nbformat_minor": 2
}
