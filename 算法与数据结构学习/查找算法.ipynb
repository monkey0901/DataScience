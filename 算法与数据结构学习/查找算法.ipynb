{
 "cells": [
  {
   "cell_type": "markdown",
   "metadata": {},
   "source": [
    "# 查找算法\n",
    "## 1.顺序查找\n",
    "在一个数据元素集合中，通过一定的方法确定与给定关键字相同的数据元素是否存在于集合中。一般来说，如果查找成功，程序会返回数据的位置或相关信息；如果查找失败，则返回相应的提示。\n"
   ]
  },
  {
   "cell_type": "code",
   "execution_count": 1,
   "metadata": {},
   "outputs": [
    {
     "name": "stdout",
     "output_type": "stream",
     "text": [
      "2 5\n",
      "-1\n"
     ]
    }
   ],
   "source": [
    "arr = [1,3,5,4,2,4,6,5,1]\n",
    "key = int(input(\"请输入需要查找的数：\"))\n",
    "for index, value in enumerate(arr):\n",
    "    if value==key:\n",
    "        print(index,value)\n",
    "        break\n",
    "print(-1)"
   ]
  },
  {
   "cell_type": "markdown",
   "metadata": {},
   "source": [
    "## 2.二分查找\n",
    "二分查找，也叫折半查找，是一种适用于顺序存储结构的查找方法。它是一种效率较高的查找方法，时间复杂度为 O(lgn)，但它仅能用于有序表中。也就是说，表中的元素需按关键字大小有序排列。"
   ]
  },
  {
   "cell_type": "code",
   "execution_count": 10,
   "metadata": {},
   "outputs": [
    {
     "name": "stdout",
     "output_type": "stream",
     "text": [
      "1 5\n",
      "-1\n"
     ]
    }
   ],
   "source": [
    "arr = [2,5,6,8,12,15,17,23,27,31,39,40,45,56,79,90]\n",
    "key = int(input(\"请输入需要查找的数：\"))\n",
    "nums = arr\n",
    "while len(nums)>=1:\n",
    "    m = len(nums)//2\n",
    "    if key<nums[m]:\n",
    "        nums = nums[:m]\n",
    "    elif key>nums[m]:\n",
    "        nums = nums[m+1:]\n",
    "    else:\n",
    "        print(arr.index(nums[m]), nums[m])\n",
    "        break\n",
    "print(-1)"
   ]
  },
  {
   "cell_type": "code",
   "execution_count": 13,
   "metadata": {},
   "outputs": [
    {
     "name": "stdout",
     "output_type": "stream",
     "text": [
      "23\n",
      "-1\n"
     ]
    }
   ],
   "source": [
    "# 双指针\n",
    "arr = [2,5,6,8,12,15,17,23,27,31,39,40,45,56,79,90]\n",
    "key = int(input(\"请输入需要查找的数：\"))\n",
    "l, r = 0, len(arr)-1\n",
    "while l<r:\n",
    "    m = (l+r+1)//2\n",
    "    if arr[m]<key:\n",
    "        l = m \n",
    "    elif arr[m]>key:\n",
    "        r = m - 1\n",
    "    else:\n",
    "        print(arr[m])\n",
    "        break\n",
    "print(-1)\n"
   ]
  },
  {
   "cell_type": "markdown",
   "metadata": {},
   "source": []
  }
 ],
 "metadata": {
  "interpreter": {
   "hash": "e4046c747db15acef93b5316a4c87d7ebe5f84bc6fde501da826df5e1dc39d88"
  },
  "kernelspec": {
   "display_name": "Python 3.7.0 ('base')",
   "language": "python",
   "name": "python3"
  },
  "language_info": {
   "codemirror_mode": {
    "name": "ipython",
    "version": 3
   },
   "file_extension": ".py",
   "mimetype": "text/x-python",
   "name": "python",
   "nbconvert_exporter": "python",
   "pygments_lexer": "ipython3",
   "version": "3.7.0"
  },
  "orig_nbformat": 4
 },
 "nbformat": 4,
 "nbformat_minor": 2
}
